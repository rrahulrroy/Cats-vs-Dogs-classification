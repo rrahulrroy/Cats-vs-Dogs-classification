{
 "cells": [
  {
   "cell_type": "code",
   "execution_count": 78,
   "metadata": {},
   "outputs": [],
   "source": [
    "import cv2\n",
    "import matplotlib.pyplot as plt\n",
    "import os\n",
    "import numpy as np\n",
    "from PIL import Image"
   ]
  },
  {
   "cell_type": "code",
   "execution_count": 79,
   "metadata": {},
   "outputs": [],
   "source": [
    "img_path = 'D:/Dataset/dog_cat_pics'\n",
    "img_file = 'IMG-20180930-WA0014.jpg'\n",
    "LR = 1e-3\n",
    "IMG_SIZE = 50"
   ]
  },
  {
   "cell_type": "code",
   "execution_count": 80,
   "metadata": {},
   "outputs": [],
   "source": [
    "def process_test_image():\n",
    "    img = img_file\n",
    "    test_img_data = []\n",
    "    path = os.path.join(img_path, img)\n",
    "    img_num = img.split('.')[0]\n",
    "    img = cv2.imread(path, cv2.IMREAD_GRAYSCALE)\n",
    "    img = cv2.resize(img, (IMG_SIZE, IMG_SIZE))\n",
    "    \n",
    "    test_img_data.append([np.array(img), img_num])\n",
    "    \n",
    "    np.save('test_img_data.npy', test_img_data)\n",
    "    return test_img_data"
   ]
  },
  {
   "cell_type": "code",
   "execution_count": 81,
   "metadata": {},
   "outputs": [
    {
     "name": "stdout",
     "output_type": "stream",
     "text": [
      "1\n",
      "[[array([[157, 158, 159, ...,  52, 255, 255],\n",
      "       [157, 157, 157, ...,  55, 149, 207],\n",
      "       [157, 157, 162, ...,  91, 252, 255],\n",
      "       ...,\n",
      "       [ 48,  45,  48, ...,  87,  80,  53],\n",
      "       [ 55,  60,  66, ..., 136, 116, 148],\n",
      "       [ 61,  49,  58, ..., 181, 230, 226]], dtype=uint8), 'IMG-20180930-WA0014']]\n"
     ]
    }
   ],
   "source": [
    "img_data = process_test_image()\n",
    "\n",
    "print(len(img_data))\n",
    "print(img_data)"
   ]
  },
  {
   "cell_type": "code",
   "execution_count": 82,
   "metadata": {},
   "outputs": [],
   "source": [
    "import tflearn\n",
    "from tflearn.layers.conv import conv_2d, max_pool_2d\n",
    "from tflearn.layers.core import input_data, dropout, fully_connected\n",
    "from tflearn.layers.estimator import regression\n",
    "\n",
    "import tensorflow as tf\n",
    "tf.reset_default_graph()\n",
    "\n",
    "convnet = input_data(shape=[None, IMG_SIZE, IMG_SIZE, 1], name='input')\n",
    "\n",
    "convnet = conv_2d(convnet, 32, 5, activation='relu')\n",
    "convnet = max_pool_2d(convnet, 5)\n",
    "\n",
    "convnet = conv_2d(convnet, 64, 5, activation='relu')\n",
    "convnet = max_pool_2d(convnet, 5)\n",
    "\n",
    "convnet = conv_2d(convnet, 128, 5, activation='relu')\n",
    "convnet = max_pool_2d(convnet, 5)\n",
    "\n",
    "convnet = conv_2d(convnet, 64, 5, activation='relu')\n",
    "convnet = max_pool_2d(convnet, 5)\n",
    "\n",
    "convnet = conv_2d(convnet, 32, 5, activation='relu')\n",
    "convnet = max_pool_2d(convnet, 5)\n",
    "\n",
    "convnet = fully_connected(convnet, 1024, activation='relu')\n",
    "convnet = dropout(convnet, 0.8)\n",
    "\n",
    "convnet = fully_connected(convnet, 2, activation='softmax')\n",
    "convnet = regression(convnet, optimizer='adam', learning_rate=LR, loss='categorical_crossentropy', name='targets')\n",
    "\n",
    "model = tflearn.DNN(convnet, tensorboard_dir='log')"
   ]
  },
  {
   "cell_type": "code",
   "execution_count": 83,
   "metadata": {},
   "outputs": [
    {
     "name": "stdout",
     "output_type": "stream",
     "text": [
      "INFO:tensorflow:Restoring parameters from D:\\Projects\\CatsVDogs\\dogsvscats-0.001-6conv-basic.model\n",
      "Model loaded!\n"
     ]
    }
   ],
   "source": [
    "if os.path.exists('dogsvscats-0.001-6conv-basic.model.meta'):\n",
    "    model.load('dogsvscats-0.001-6conv-basic.model')\n",
    "    print('Model loaded!')"
   ]
  },
  {
   "cell_type": "code",
   "execution_count": 84,
   "metadata": {},
   "outputs": [
    {
     "data": {
      "text/plain": [
       "<Figure size 432x288 with 0 Axes>"
      ]
     },
     "metadata": {},
     "output_type": "display_data"
    }
   ],
   "source": [
    "fig = plt.figure()\n",
    "\n",
    "#cat: [1, 0]\n",
    "#dog: [0,1]"
   ]
  },
  {
   "cell_type": "code",
   "execution_count": 85,
   "metadata": {},
   "outputs": [
    {
     "name": "stdout",
     "output_type": "stream",
     "text": [
      "[array([[157, 158, 159, ...,  52, 255, 255],\n",
      "       [157, 157, 157, ...,  55, 149, 207],\n",
      "       [157, 157, 162, ...,  91, 252, 255],\n",
      "       ...,\n",
      "       [ 48,  45,  48, ...,  87,  80,  53],\n",
      "       [ 55,  60,  66, ..., 136, 116, 148],\n",
      "       [ 61,  49,  58, ..., 181, 230, 226]], dtype=uint8)\n",
      " 'IMG-20180930-WA0014']\n",
      "[[157 158 159 ...  52 255 255]\n",
      " [157 157 157 ...  55 149 207]\n",
      " [157 157 162 ...  91 252 255]\n",
      " ...\n",
      " [ 48  45  48 ...  87  80  53]\n",
      " [ 55  60  66 ... 136 116 148]\n",
      " [ 61  49  58 ... 181 230 226]]\n"
     ]
    }
   ],
   "source": [
    "image_data = np.array(img_data[0])\n",
    "print(image_data)\n",
    "\n",
    "data_image = image_data[0]\n",
    "print(data_image)"
   ]
  },
  {
   "cell_type": "code",
   "execution_count": 86,
   "metadata": {},
   "outputs": [
    {
     "name": "stdout",
     "output_type": "stream",
     "text": [
      "[[157 158 159 ...  52 255 255]\n",
      " [157 157 157 ...  55 149 207]\n",
      " [157 157 162 ...  91 252 255]\n",
      " ...\n",
      " [ 48  45  48 ...  87  80  53]\n",
      " [ 55  60  66 ... 136 116 148]\n",
      " [ 61  49  58 ... 181 230 226]]\n",
      "[0.45926037 0.54073966]\n"
     ]
    },
    {
     "data": {
      "image/png": "[encoded data removed]",
      "text/plain": [
       "<Figure size 432x288 with 1 Axes>"
      ]
     },
     "metadata": {
      "needs_background": "light"
     },
     "output_type": "display_data"
    }
   ],
   "source": [
    "#image = Image.open('{}/{}'.format(img_path, img_file))\n",
    "#y = fig\n",
    "orig = data_image\n",
    "print(orig)\n",
    "data = data_image.reshape(IMG_SIZE, IMG_SIZE, 1)\n",
    "\n",
    "model_out = model.predict([data])[0]\n",
    "\n",
    "print(model_out)\n",
    "\n",
    "if np.argmax(model_out) == 1:\n",
    "    str_label = 'Dog'\n",
    "else:\n",
    "    str_label = 'Cat'\n",
    "\n",
    "#y.imshow(orig, cmap='gray')\n",
    "plt.imshow(orig, cmap='gray')\n",
    "#image.show()\n",
    "plt.title(str_label)\n",
    "#y.axes.get_xaxis().set_visible(False)\n",
    "#y.axes.get_yaxis().set_visible(False)\n",
    "\n",
    "plt.show()"
   ]
  }
 ],
 "metadata": {
  "kernelspec": {
   "display_name": "Python 3",
   "language": "python",
   "name": "python3"
  },
  "language_info": {
   "codemirror_mode": {
    "name": "ipython",
    "version": 3
   },
   "file_extension": ".py",
   "mimetype": "text/x-python",
   "name": "python",
   "nbconvert_exporter": "python",
   "pygments_lexer": "ipython3",
   "version": "3.7.0"
  }
 },
 "nbformat": 4,
 "nbformat_minor": 2
}
